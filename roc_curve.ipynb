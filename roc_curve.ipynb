{
 "cells": [
  {
   "cell_type": "code",
   "execution_count": 2,
   "id": "85f966eb",
   "metadata": {},
   "outputs": [],
   "source": [
    "import numpy as np"
   ]
  },
  {
   "cell_type": "code",
   "execution_count": 3,
   "id": "9ae4a710",
   "metadata": {},
   "outputs": [],
   "source": [
    "def roc_curve(class_1, class_2, disp_data):\n",
    "#     rng(1337,'twister')\n",
    "#     s = rng\n",
    "#     class_1 = rand(1,3);\n",
    "#     rng(s)\n",
    "#     class_2 = 0.5*rand(1,5);\n",
    "#     sispt = 1;\n",
    "#     dispp = 1;\n",
    "\n",
    "#     np.random.seed(1337)\n",
    "#     class_1 = np.random.rand(1,3)\n",
    "#     np.random.seed(1337)\n",
    "#     class_2 = 0.5*np.random.rand(1,3)\n",
    "\n",
    "    # Calculating the threshold values between the data points\n",
    "    s_data = np.sort(np.unique(np.concatenate([class_1, class_2], axis=0)))\n",
    "    s_data = s_data[s_data!=np.array(None)]\n",
    "    d_data = np.diff(s_data)\n",
    "    if np.all(d_data==0):\n",
    "        print('Both class are the same!')\n",
    "    d_data = np.append(d_data, d_data[-1])\n",
    "    thres = np.empty(len(s_data)+1)\n",
    "    thres[0] = s_data[0] - d_data[0]\n",
    "    thres[1:len(thres)] = s_data + d_data/2\n",
    "\n",
    "    # Calculating the sensibility and specificity of each threshold\n",
    "    curve = np.zeros((len(thres),2))\n",
    "    distance = np.zeros((len(thres),1))\n",
    "    for id_t in range(len(thres)):\n",
    "        TP = np.sum(class_2 >= thres[id_t])\n",
    "        FP = np.sum(class_1 >= thres[id_t])\n",
    "        FN = np.sum(class_2 < thres[id_t])\n",
    "        TN = np.sum(class_1 < thres[id_t])\n",
    "\n",
    "        curve[id_t, 0] = TP/(TP+FN)  # sensitivity - TPR\n",
    "        curve[id_t, 1] = TN/(TN+FP)  # specificity - FPR\n",
    "\n",
    "        distance[id_t] = np.sqrt((1-curve[id_t, 0])**2 + (curve[id_t,1]-1)**2)\n",
    "\n",
    "    # Optimum threshold and parameters\n",
    "    #opt = np.min(distance)  # 1\n",
    "    opt = np.argmin(distance)\n",
    "    TP = np.sum(class_2 >= thres[opt])\n",
    "    FP = np.sum(class_1 >= thres[opt])\n",
    "    FN = np.sum(class_2 < thres[opt])\n",
    "    TN = np.sum(class_1 < thres[opt])\n",
    "\n",
    "    if disp_data==1:\n",
    "        print('\\n ROC CURVE PARAMETERS:\\n')\n",
    "        print('Threshold:', thres[opt])\n",
    "        print('Distance:', distance[opt])\n",
    "        print('Sensitivity:', curve[opt,0])\n",
    "        print('Specificity:', curve[opt,1])\n",
    "        print('Accuracy:', (TP+TN)/(TP+TN+FP+FN))\n",
    "        print('PPV:', TP/(TP+FP))\n",
    "        print('NPV:', TN/(TN+FN))\n",
    "        print('FNR:', FN/(FN+TP))\n",
    "        print('FPR:', FP/(FP+TN))\n",
    "        print('FDR:', FP/(FP+TP))\n",
    "        print('FOR:', FN/(FN+TN))\n",
    "        print('F1 score:', 2*TP/(2*TP+FP+FN))\n",
    "        print('TP:', TP)\n",
    "        print('FP:', FP)\n",
    "        print('FN:', FN)\n",
    "        print('TN:', TN)"
   ]
  }
 ],
 "metadata": {
  "kernelspec": {
   "display_name": "Python 3 (ipykernel)",
   "language": "python",
   "name": "python3"
  },
  "language_info": {
   "codemirror_mode": {
    "name": "ipython",
    "version": 3
   },
   "file_extension": ".py",
   "mimetype": "text/x-python",
   "name": "python",
   "nbconvert_exporter": "python",
   "pygments_lexer": "ipython3",
   "version": "3.8.8"
  }
 },
 "nbformat": 4,
 "nbformat_minor": 5
}
